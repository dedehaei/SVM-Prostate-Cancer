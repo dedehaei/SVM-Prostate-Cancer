{
  "nbformat": 4,
  "nbformat_minor": 0,
  "metadata": {
    "colab": {
      "name": "SVM.ipynb",
      "provenance": []
    },
    "kernelspec": {
      "name": "python3",
      "display_name": "Python 3"
    },
    "language_info": {
      "name": "python"
    }
  },
  "cells": [
    {
      "cell_type": "code",
      "metadata": {
        "id": "DqzoaM_Hole7"
      },
      "source": [
        "import numpy as np\n",
        "import pandas as pd\n",
        "from sklearn.svm import SVC\n",
        "import matplotlib.pyplot as plt\n"
      ],
      "execution_count": null,
      "outputs": []
    },
    {
      "cell_type": "code",
      "metadata": {
        "id": "pXTLKtvRrWLA",
        "colab": {
          "base_uri": "https://localhost:8080/",
          "height": 204
        },
        "outputId": "927cce6d-d0a2-4895-e2ea-c567aa78e656"
      },
      "source": [
        "df = pd.read_csv(\"Prostate_Cancer.csv\")\n",
        "df.head()"
      ],
      "execution_count": null,
      "outputs": [
        {
          "output_type": "execute_result",
          "data": {
            "text/html": [
              "<div>\n",
              "<style scoped>\n",
              "    .dataframe tbody tr th:only-of-type {\n",
              "        vertical-align: middle;\n",
              "    }\n",
              "\n",
              "    .dataframe tbody tr th {\n",
              "        vertical-align: top;\n",
              "    }\n",
              "\n",
              "    .dataframe thead th {\n",
              "        text-align: right;\n",
              "    }\n",
              "</style>\n",
              "<table border=\"1\" class=\"dataframe\">\n",
              "  <thead>\n",
              "    <tr style=\"text-align: right;\">\n",
              "      <th></th>\n",
              "      <th>id</th>\n",
              "      <th>diagnosis_result</th>\n",
              "      <th>radius</th>\n",
              "      <th>texture</th>\n",
              "      <th>perimeter</th>\n",
              "      <th>area</th>\n",
              "      <th>smoothness</th>\n",
              "      <th>compactness</th>\n",
              "      <th>symmetry</th>\n",
              "      <th>fractal_dimension</th>\n",
              "    </tr>\n",
              "  </thead>\n",
              "  <tbody>\n",
              "    <tr>\n",
              "      <th>0</th>\n",
              "      <td>1</td>\n",
              "      <td>M</td>\n",
              "      <td>23</td>\n",
              "      <td>12</td>\n",
              "      <td>151</td>\n",
              "      <td>954</td>\n",
              "      <td>0.143</td>\n",
              "      <td>0.278</td>\n",
              "      <td>0.242</td>\n",
              "      <td>0.079</td>\n",
              "    </tr>\n",
              "    <tr>\n",
              "      <th>1</th>\n",
              "      <td>2</td>\n",
              "      <td>B</td>\n",
              "      <td>9</td>\n",
              "      <td>13</td>\n",
              "      <td>133</td>\n",
              "      <td>1326</td>\n",
              "      <td>0.143</td>\n",
              "      <td>0.079</td>\n",
              "      <td>0.181</td>\n",
              "      <td>0.057</td>\n",
              "    </tr>\n",
              "    <tr>\n",
              "      <th>2</th>\n",
              "      <td>3</td>\n",
              "      <td>M</td>\n",
              "      <td>21</td>\n",
              "      <td>27</td>\n",
              "      <td>130</td>\n",
              "      <td>1203</td>\n",
              "      <td>0.125</td>\n",
              "      <td>0.160</td>\n",
              "      <td>0.207</td>\n",
              "      <td>0.060</td>\n",
              "    </tr>\n",
              "    <tr>\n",
              "      <th>3</th>\n",
              "      <td>4</td>\n",
              "      <td>M</td>\n",
              "      <td>14</td>\n",
              "      <td>16</td>\n",
              "      <td>78</td>\n",
              "      <td>386</td>\n",
              "      <td>0.070</td>\n",
              "      <td>0.284</td>\n",
              "      <td>0.260</td>\n",
              "      <td>0.097</td>\n",
              "    </tr>\n",
              "    <tr>\n",
              "      <th>4</th>\n",
              "      <td>5</td>\n",
              "      <td>M</td>\n",
              "      <td>9</td>\n",
              "      <td>19</td>\n",
              "      <td>135</td>\n",
              "      <td>1297</td>\n",
              "      <td>0.141</td>\n",
              "      <td>0.133</td>\n",
              "      <td>0.181</td>\n",
              "      <td>0.059</td>\n",
              "    </tr>\n",
              "  </tbody>\n",
              "</table>\n",
              "</div>"
            ],
            "text/plain": [
              "   id diagnosis_result  radius  ...  compactness  symmetry  fractal_dimension\n",
              "0   1                M      23  ...        0.278     0.242              0.079\n",
              "1   2                B       9  ...        0.079     0.181              0.057\n",
              "2   3                M      21  ...        0.160     0.207              0.060\n",
              "3   4                M      14  ...        0.284     0.260              0.097\n",
              "4   5                M       9  ...        0.133     0.181              0.059\n",
              "\n",
              "[5 rows x 10 columns]"
            ]
          },
          "metadata": {
            "tags": []
          },
          "execution_count": 78
        }
      ]
    },
    {
      "cell_type": "code",
      "metadata": {
        "id": "4G8miMp1svKj",
        "colab": {
          "base_uri": "https://localhost:8080/",
          "height": 272
        },
        "outputId": "f2eb0cb9-285c-4d13-f731-89fa0d2b3deb"
      },
      "source": [
        "diagM = [ np.count_nonzero(df['diagnosis_result']==\"M\"),np.count_nonzero(df['diagnosis_result']=='B')]\n",
        "hasil = ['ganas','jinak']\n",
        "plt.title('kanker')\n",
        "plt.pie(diagM,labels=hasil, radius=1.3, startangle=60, autopct='%.1f%%', shadow=True)\n",
        "plt.show()"
      ],
      "execution_count": null,
      "outputs": [
        {
          "output_type": "display_data",
          "data": {
            "image/png": "[encoded data removed]",
            "text/plain": [
              "<Figure size 432x288 with 1 Axes>"
            ]
          },
          "metadata": {
            "tags": []
          }
        }
      ]
    },
    {
      "cell_type": "code",
      "metadata": {
        "id": "2bYtyqn-rot-"
      },
      "source": [
        "from sklearn.preprocessing import LabelEncoder"
      ],
      "execution_count": null,
      "outputs": []
    },
    {
      "cell_type": "code",
      "metadata": {
        "id": "lYHVMbbZrxP1"
      },
      "source": [
        "le = LabelEncoder()"
      ],
      "execution_count": null,
      "outputs": []
    },
    {
      "cell_type": "code",
      "metadata": {
        "id": "14m10IL6r4Ju"
      },
      "source": [
        "df['diagnosis_result'] = le.fit_transform(df['diagnosis_result'].values)"
      ],
      "execution_count": null,
      "outputs": []
    },
    {
      "cell_type": "code",
      "metadata": {
        "id": "I-MRHsI2sIbI",
        "colab": {
          "base_uri": "https://localhost:8080/",
          "height": 204
        },
        "outputId": "78ac13ce-b78e-4701-9bea-3247e21a250b"
      },
      "source": [
        "df.head()"
      ],
      "execution_count": null,
      "outputs": [
        {
          "output_type": "execute_result",
          "data": {
            "text/html": [
              "<div>\n",
              "<style scoped>\n",
              "    .dataframe tbody tr th:only-of-type {\n",
              "        vertical-align: middle;\n",
              "    }\n",
              "\n",
              "    .dataframe tbody tr th {\n",
              "        vertical-align: top;\n",
              "    }\n",
              "\n",
              "    .dataframe thead th {\n",
              "        text-align: right;\n",
              "    }\n",
              "</style>\n",
              "<table border=\"1\" class=\"dataframe\">\n",
              "  <thead>\n",
              "    <tr style=\"text-align: right;\">\n",
              "      <th></th>\n",
              "      <th>id</th>\n",
              "      <th>diagnosis_result</th>\n",
              "      <th>radius</th>\n",
              "      <th>texture</th>\n",
              "      <th>perimeter</th>\n",
              "      <th>area</th>\n",
              "      <th>smoothness</th>\n",
              "      <th>compactness</th>\n",
              "      <th>symmetry</th>\n",
              "      <th>fractal_dimension</th>\n",
              "    </tr>\n",
              "  </thead>\n",
              "  <tbody>\n",
              "    <tr>\n",
              "      <th>0</th>\n",
              "      <td>1</td>\n",
              "      <td>1</td>\n",
              "      <td>23</td>\n",
              "      <td>12</td>\n",
              "      <td>151</td>\n",
              "      <td>954</td>\n",
              "      <td>0.143</td>\n",
              "      <td>0.278</td>\n",
              "      <td>0.242</td>\n",
              "      <td>0.079</td>\n",
              "    </tr>\n",
              "    <tr>\n",
              "      <th>1</th>\n",
              "      <td>2</td>\n",
              "      <td>0</td>\n",
              "      <td>9</td>\n",
              "      <td>13</td>\n",
              "      <td>133</td>\n",
              "      <td>1326</td>\n",
              "      <td>0.143</td>\n",
              "      <td>0.079</td>\n",
              "      <td>0.181</td>\n",
              "      <td>0.057</td>\n",
              "    </tr>\n",
              "    <tr>\n",
              "      <th>2</th>\n",
              "      <td>3</td>\n",
              "      <td>1</td>\n",
              "      <td>21</td>\n",
              "      <td>27</td>\n",
              "      <td>130</td>\n",
              "      <td>1203</td>\n",
              "      <td>0.125</td>\n",
              "      <td>0.160</td>\n",
              "      <td>0.207</td>\n",
              "      <td>0.060</td>\n",
              "    </tr>\n",
              "    <tr>\n",
              "      <th>3</th>\n",
              "      <td>4</td>\n",
              "      <td>1</td>\n",
              "      <td>14</td>\n",
              "      <td>16</td>\n",
              "      <td>78</td>\n",
              "      <td>386</td>\n",
              "      <td>0.070</td>\n",
              "      <td>0.284</td>\n",
              "      <td>0.260</td>\n",
              "      <td>0.097</td>\n",
              "    </tr>\n",
              "    <tr>\n",
              "      <th>4</th>\n",
              "      <td>5</td>\n",
              "      <td>1</td>\n",
              "      <td>9</td>\n",
              "      <td>19</td>\n",
              "      <td>135</td>\n",
              "      <td>1297</td>\n",
              "      <td>0.141</td>\n",
              "      <td>0.133</td>\n",
              "      <td>0.181</td>\n",
              "      <td>0.059</td>\n",
              "    </tr>\n",
              "  </tbody>\n",
              "</table>\n",
              "</div>"
            ],
            "text/plain": [
              "   id  diagnosis_result  radius  ...  compactness  symmetry  fractal_dimension\n",
              "0   1                 1      23  ...        0.278     0.242              0.079\n",
              "1   2                 0       9  ...        0.079     0.181              0.057\n",
              "2   3                 1      21  ...        0.160     0.207              0.060\n",
              "3   4                 1      14  ...        0.284     0.260              0.097\n",
              "4   5                 1       9  ...        0.133     0.181              0.059\n",
              "\n",
              "[5 rows x 10 columns]"
            ]
          },
          "metadata": {
            "tags": []
          },
          "execution_count": 83
        }
      ]
    },
    {
      "cell_type": "code",
      "metadata": {
        "id": "lJ-40rh5uklo"
      },
      "source": [
        "df.drop (['id'],inplace=True,axis=1)"
      ],
      "execution_count": null,
      "outputs": []
    },
    {
      "cell_type": "code",
      "metadata": {
        "id": "gis3VmBpvXfD",
        "colab": {
          "base_uri": "https://localhost:8080/",
          "height": 204
        },
        "outputId": "da9eca39-dc28-44e2-f361-a346d7e89fe3"
      },
      "source": [
        "df.head()"
      ],
      "execution_count": null,
      "outputs": [
        {
          "output_type": "execute_result",
          "data": {
            "text/html": [
              "<div>\n",
              "<style scoped>\n",
              "    .dataframe tbody tr th:only-of-type {\n",
              "        vertical-align: middle;\n",
              "    }\n",
              "\n",
              "    .dataframe tbody tr th {\n",
              "        vertical-align: top;\n",
              "    }\n",
              "\n",
              "    .dataframe thead th {\n",
              "        text-align: right;\n",
              "    }\n",
              "</style>\n",
              "<table border=\"1\" class=\"dataframe\">\n",
              "  <thead>\n",
              "    <tr style=\"text-align: right;\">\n",
              "      <th></th>\n",
              "      <th>diagnosis_result</th>\n",
              "      <th>radius</th>\n",
              "      <th>texture</th>\n",
              "      <th>perimeter</th>\n",
              "      <th>area</th>\n",
              "      <th>smoothness</th>\n",
              "      <th>compactness</th>\n",
              "      <th>symmetry</th>\n",
              "      <th>fractal_dimension</th>\n",
              "    </tr>\n",
              "  </thead>\n",
              "  <tbody>\n",
              "    <tr>\n",
              "      <th>0</th>\n",
              "      <td>1</td>\n",
              "      <td>23</td>\n",
              "      <td>12</td>\n",
              "      <td>151</td>\n",
              "      <td>954</td>\n",
              "      <td>0.143</td>\n",
              "      <td>0.278</td>\n",
              "      <td>0.242</td>\n",
              "      <td>0.079</td>\n",
              "    </tr>\n",
              "    <tr>\n",
              "      <th>1</th>\n",
              "      <td>0</td>\n",
              "      <td>9</td>\n",
              "      <td>13</td>\n",
              "      <td>133</td>\n",
              "      <td>1326</td>\n",
              "      <td>0.143</td>\n",
              "      <td>0.079</td>\n",
              "      <td>0.181</td>\n",
              "      <td>0.057</td>\n",
              "    </tr>\n",
              "    <tr>\n",
              "      <th>2</th>\n",
              "      <td>1</td>\n",
              "      <td>21</td>\n",
              "      <td>27</td>\n",
              "      <td>130</td>\n",
              "      <td>1203</td>\n",
              "      <td>0.125</td>\n",
              "      <td>0.160</td>\n",
              "      <td>0.207</td>\n",
              "      <td>0.060</td>\n",
              "    </tr>\n",
              "    <tr>\n",
              "      <th>3</th>\n",
              "      <td>1</td>\n",
              "      <td>14</td>\n",
              "      <td>16</td>\n",
              "      <td>78</td>\n",
              "      <td>386</td>\n",
              "      <td>0.070</td>\n",
              "      <td>0.284</td>\n",
              "      <td>0.260</td>\n",
              "      <td>0.097</td>\n",
              "    </tr>\n",
              "    <tr>\n",
              "      <th>4</th>\n",
              "      <td>1</td>\n",
              "      <td>9</td>\n",
              "      <td>19</td>\n",
              "      <td>135</td>\n",
              "      <td>1297</td>\n",
              "      <td>0.141</td>\n",
              "      <td>0.133</td>\n",
              "      <td>0.181</td>\n",
              "      <td>0.059</td>\n",
              "    </tr>\n",
              "  </tbody>\n",
              "</table>\n",
              "</div>"
            ],
            "text/plain": [
              "   diagnosis_result  radius  texture  ...  compactness  symmetry  fractal_dimension\n",
              "0                 1      23       12  ...        0.278     0.242              0.079\n",
              "1                 0       9       13  ...        0.079     0.181              0.057\n",
              "2                 1      21       27  ...        0.160     0.207              0.060\n",
              "3                 1      14       16  ...        0.284     0.260              0.097\n",
              "4                 1       9       19  ...        0.133     0.181              0.059\n",
              "\n",
              "[5 rows x 9 columns]"
            ]
          },
          "metadata": {
            "tags": []
          },
          "execution_count": 85
        }
      ]
    },
    {
      "cell_type": "code",
      "metadata": {
        "id": "M1G64F-msO9M",
        "colab": {
          "base_uri": "https://localhost:8080/",
          "height": 204
        },
        "outputId": "b34aecc7-c2fb-4187-9e24-ac14dd74d537"
      },
      "source": [
        "xdata= df.loc[:,'radius':'fractal_dimension']\n",
        "ydata = df['diagnosis_result']\n",
        "xdata.head()"
      ],
      "execution_count": null,
      "outputs": [
        {
          "output_type": "execute_result",
          "data": {
            "text/html": [
              "<div>\n",
              "<style scoped>\n",
              "    .dataframe tbody tr th:only-of-type {\n",
              "        vertical-align: middle;\n",
              "    }\n",
              "\n",
              "    .dataframe tbody tr th {\n",
              "        vertical-align: top;\n",
              "    }\n",
              "\n",
              "    .dataframe thead th {\n",
              "        text-align: right;\n",
              "    }\n",
              "</style>\n",
              "<table border=\"1\" class=\"dataframe\">\n",
              "  <thead>\n",
              "    <tr style=\"text-align: right;\">\n",
              "      <th></th>\n",
              "      <th>radius</th>\n",
              "      <th>texture</th>\n",
              "      <th>perimeter</th>\n",
              "      <th>area</th>\n",
              "      <th>smoothness</th>\n",
              "      <th>compactness</th>\n",
              "      <th>symmetry</th>\n",
              "      <th>fractal_dimension</th>\n",
              "    </tr>\n",
              "  </thead>\n",
              "  <tbody>\n",
              "    <tr>\n",
              "      <th>0</th>\n",
              "      <td>23</td>\n",
              "      <td>12</td>\n",
              "      <td>151</td>\n",
              "      <td>954</td>\n",
              "      <td>0.143</td>\n",
              "      <td>0.278</td>\n",
              "      <td>0.242</td>\n",
              "      <td>0.079</td>\n",
              "    </tr>\n",
              "    <tr>\n",
              "      <th>1</th>\n",
              "      <td>9</td>\n",
              "      <td>13</td>\n",
              "      <td>133</td>\n",
              "      <td>1326</td>\n",
              "      <td>0.143</td>\n",
              "      <td>0.079</td>\n",
              "      <td>0.181</td>\n",
              "      <td>0.057</td>\n",
              "    </tr>\n",
              "    <tr>\n",
              "      <th>2</th>\n",
              "      <td>21</td>\n",
              "      <td>27</td>\n",
              "      <td>130</td>\n",
              "      <td>1203</td>\n",
              "      <td>0.125</td>\n",
              "      <td>0.160</td>\n",
              "      <td>0.207</td>\n",
              "      <td>0.060</td>\n",
              "    </tr>\n",
              "    <tr>\n",
              "      <th>3</th>\n",
              "      <td>14</td>\n",
              "      <td>16</td>\n",
              "      <td>78</td>\n",
              "      <td>386</td>\n",
              "      <td>0.070</td>\n",
              "      <td>0.284</td>\n",
              "      <td>0.260</td>\n",
              "      <td>0.097</td>\n",
              "    </tr>\n",
              "    <tr>\n",
              "      <th>4</th>\n",
              "      <td>9</td>\n",
              "      <td>19</td>\n",
              "      <td>135</td>\n",
              "      <td>1297</td>\n",
              "      <td>0.141</td>\n",
              "      <td>0.133</td>\n",
              "      <td>0.181</td>\n",
              "      <td>0.059</td>\n",
              "    </tr>\n",
              "  </tbody>\n",
              "</table>\n",
              "</div>"
            ],
            "text/plain": [
              "   radius  texture  perimeter  ...  compactness  symmetry  fractal_dimension\n",
              "0      23       12        151  ...        0.278     0.242              0.079\n",
              "1       9       13        133  ...        0.079     0.181              0.057\n",
              "2      21       27        130  ...        0.160     0.207              0.060\n",
              "3      14       16         78  ...        0.284     0.260              0.097\n",
              "4       9       19        135  ...        0.133     0.181              0.059\n",
              "\n",
              "[5 rows x 8 columns]"
            ]
          },
          "metadata": {
            "tags": []
          },
          "execution_count": 86
        }
      ]
    },
    {
      "cell_type": "code",
      "metadata": {
        "id": "SutMbwJDvzss",
        "colab": {
          "base_uri": "https://localhost:8080/"
        },
        "outputId": "776708d7-0f2e-4aec-cb97-9b7c068abe26"
      },
      "source": [
        "ydata"
      ],
      "execution_count": null,
      "outputs": [
        {
          "output_type": "execute_result",
          "data": {
            "text/plain": [
              "0     1\n",
              "1     0\n",
              "2     1\n",
              "3     1\n",
              "4     1\n",
              "     ..\n",
              "95    1\n",
              "96    0\n",
              "97    0\n",
              "98    0\n",
              "99    1\n",
              "Name: diagnosis_result, Length: 100, dtype: int64"
            ]
          },
          "metadata": {
            "tags": []
          },
          "execution_count": 87
        }
      ]
    },
    {
      "cell_type": "code",
      "metadata": {
        "id": "92jmKlcqwB1t"
      },
      "source": [
        "from sklearn.model_selection import train_test_split\n",
        "from sklearn.metrics import confusion_matrix\n",
        "from sklearn.svm import SVC"
      ],
      "execution_count": null,
      "outputs": []
    },
    {
      "cell_type": "code",
      "metadata": {
        "id": "LV8OrMQScBLF",
        "colab": {
          "base_uri": "https://localhost:8080/"
        },
        "outputId": "db5bf0f0-9f1a-4daf-dba6-ac8c4490ea00"
      },
      "source": [
        "xtrain, xtest, ytrain,ytest = train_test_split (xdata, ydata, test_size = 0.5, random_state = 5)\n",
        "xtrain, xtest, ytrain,ytest"
      ],
      "execution_count": null,
      "outputs": [
        {
          "output_type": "execute_result",
          "data": {
            "text/plain": [
              "(    radius  texture  perimeter  ...  compactness  symmetry  fractal_dimension\n",
              " 98      21       24         74  ...        0.075     0.162              0.066\n",
              " 45      18       11        124  ...        0.169     0.191              0.060\n",
              " 83      20       14        129  ...        0.179     0.163              0.072\n",
              " 67      18       12         72  ...        0.047     0.152              0.057\n",
              " 89      12       23         96  ...        0.134     0.212              0.063\n",
              " 86      19       26         94  ...        0.099     0.208              0.056\n",
              " 49      25       11         87  ...        0.077     0.181              0.057\n",
              " 82      10       15        172  ...        0.267     0.183              0.068\n",
              " 59      23       26         54  ...        0.053     0.168              0.072\n",
              " 19      17       11         87  ...        0.081     0.189              0.058\n",
              " 81      17       21         86  ...        0.154     0.194              0.069\n",
              " 38      11       15         96  ...        0.051     0.157              0.055\n",
              " 68      16       17         59  ...        0.141     0.211              0.080\n",
              " 2       21       27        130  ...        0.160     0.207              0.060\n",
              " 31      23       26         78  ...        0.152     0.230              0.078\n",
              " 84      25       21         77  ...        0.072     0.208              0.060\n",
              " 51      19       22         87  ...        0.061     0.135              0.060\n",
              " 36      18       12         94  ...        0.110     0.189              0.061\n",
              " 4        9       19        135  ...        0.133     0.181              0.059\n",
              " 0       23       12        151  ...        0.278     0.242              0.079\n",
              " 58      22       15         83  ...        0.038     0.182              0.055\n",
              " 5       25       25         83  ...        0.170     0.209              0.076\n",
              " 96      22       14         78  ...        0.071     0.190              0.066\n",
              " 1        9       13        133  ...        0.079     0.181              0.057\n",
              " 93      10       17         87  ...        0.082     0.164              0.057\n",
              " 41      19       27         72  ...        0.122     0.190              0.069\n",
              " 9       25       11         84  ...        0.240     0.203              0.082\n",
              " 18      20       14        130  ...        0.103     0.158              0.054\n",
              " 91      10       12        100  ...        0.104     0.172              0.061\n",
              " 47      20       14         86  ...        0.123     0.213              0.068\n",
              " 65      11       21         97  ...        0.148     0.195              0.067\n",
              " 75      21       18        104  ...        0.084     0.180              0.054\n",
              " 77      11       21        120  ...        0.215     0.215              0.067\n",
              " 44      10       15         85  ...        0.105     0.175              0.062\n",
              " 92      14       14         85  ...        0.051     0.139              0.053\n",
              " 90      23       27         95  ...        0.086     0.169              0.059\n",
              " 53      14       26        120  ...        0.149     0.209              0.063\n",
              " 15      22       19         97  ...        0.160     0.230              0.071\n",
              " 76      10       17         88  ...        0.105     0.240              0.066\n",
              " 7       15       18         90  ...        0.165     0.220              0.075\n",
              " 80      10       18         74  ...        0.094     0.184              0.070\n",
              " 30      11       22        125  ...        0.189     0.218              0.062\n",
              " 27      16       24        122  ...        0.107     0.170              0.057\n",
              " 62      12       22         96  ...        0.201     0.195              0.073\n",
              " 8       19       24         88  ...        0.193     0.235              0.074\n",
              " 73      22       25         90  ...        0.128     0.166              0.066\n",
              " 16      10       16         95  ...        0.072     0.159              0.059\n",
              " 61      25       15         55  ...        0.090     0.183              0.068\n",
              " 78      16       18        144  ...        0.345     0.291              0.081\n",
              " 99      16       27         94  ...        0.114     0.188              0.064\n",
              " \n",
              " [50 rows x 8 columns],\n",
              "     radius  texture  perimeter  ...  compactness  symmetry  fractal_dimension\n",
              " 66      12       13         60  ...        0.078     0.172              0.069\n",
              " 32      20       18        113  ...        0.150     0.225              0.064\n",
              " 46      22       12         52  ...        0.059     0.177              0.065\n",
              " 28      15       15        102  ...        0.170     0.193              0.065\n",
              " 74      18       13         79  ...        0.068     0.172              0.059\n",
              " 23      19       12        137  ...        0.102     0.177              0.053\n",
              " 10      24       21        103  ...        0.067     0.153              0.057\n",
              " 20      16       14         86  ...        0.127     0.197              0.068\n",
              " 17      15       14        108  ...        0.202     0.216              0.074\n",
              " 35      10       13        110  ...        0.134     0.190              0.057\n",
              " 97      19       27         62  ...        0.053     0.135              0.069\n",
              " 37      21       11         83  ...        0.038     0.147              0.059\n",
              " 70      21       18        124  ...        0.103     0.158              0.055\n",
              " 40      24       16         86  ...        0.060     0.178              0.056\n",
              " 60      15       18         65  ...        0.081     0.274              0.070\n",
              " 34      16       23        107  ...        0.156     0.200              0.065\n",
              " 42      11       11        128  ...        0.219     0.231              0.063\n",
              " 57      17       20         96  ...        0.137     0.203              0.068\n",
              " 12      14       15        132  ...        0.246     0.240              0.078\n",
              " 69      17       21         81  ...        0.052     0.159              0.057\n",
              " 94      22       26        100  ...        0.155     0.186              0.063\n",
              " 56      10       19        126  ...        0.127     0.192              0.060\n",
              " 22      20       27        103  ...        0.214     0.252              0.070\n",
              " 39      10       14         88  ...        0.126     0.172              0.064\n",
              " 24       9       13        110  ...        0.146     0.200              0.063\n",
              " 13      12       22        104  ...        0.100     0.185              0.053\n",
              " 63      24       17         59  ...        0.088     0.234              0.070\n",
              " 71       9       26         59  ...        0.153     0.190              0.090\n",
              " 55      18       13         73  ...        0.055     0.192              0.059\n",
              " 87      19       11        122  ...        0.121     0.195              0.056\n",
              " 6       16       26        120  ...        0.109     0.179              0.057\n",
              " 88      11       11         80  ...        0.094     0.193              0.064\n",
              " 64      16       19         83  ...        0.126     0.191              0.066\n",
              " 26      10       24         97  ...        0.187     0.225              0.069\n",
              " 48      20       21         78  ...        0.091     0.168              0.060\n",
              " 50      19       25         75  ...        0.050     0.150              0.059\n",
              " 72      21       12        114  ...        0.183     0.193              0.065\n",
              " 54      18       25         97  ...        0.071     0.162              0.057\n",
              " 21      17       24         60  ...        0.065     0.182              0.069\n",
              " 25      19       27        116  ...        0.228     0.304              0.074\n",
              " 33      11       21        128  ...        0.172     0.185              0.063\n",
              " 29      11       16        115  ...        0.116     0.174              0.061\n",
              " 52      25       15         76  ...        0.048     0.187              0.061\n",
              " 14      12       13         94  ...        0.229     0.207              0.077\n",
              " 85      14       13        121  ...        0.105     0.213              0.060\n",
              " 79      22       16         83  ...        0.095     0.172              0.060\n",
              " 95      23       16        132  ...        0.131     0.210              0.056\n",
              " 3       14       16         78  ...        0.284     0.260              0.097\n",
              " 43      15       21         87  ...        0.144     0.197              0.068\n",
              " 11      17       15        104  ...        0.129     0.184              0.061\n",
              " \n",
              " [50 rows x 8 columns],\n",
              " 98    0\n",
              " 45    1\n",
              " 83    1\n",
              " 67    0\n",
              " 89    0\n",
              " 86    1\n",
              " 49    0\n",
              " 82    1\n",
              " 59    0\n",
              " 19    0\n",
              " 81    0\n",
              " 38    1\n",
              " 68    0\n",
              " 2     1\n",
              " 31    1\n",
              " 84    0\n",
              " 51    0\n",
              " 36    1\n",
              " 4     1\n",
              " 0     1\n",
              " 58    0\n",
              " 5     0\n",
              " 96    0\n",
              " 1     0\n",
              " 93    0\n",
              " 41    1\n",
              " 9     1\n",
              " 18    1\n",
              " 91    1\n",
              " 47    1\n",
              " 65    1\n",
              " 75    1\n",
              " 77    1\n",
              " 44    1\n",
              " 92    0\n",
              " 90    0\n",
              " 53    1\n",
              " 15    1\n",
              " 76    0\n",
              " 7     1\n",
              " 80    0\n",
              " 30    1\n",
              " 27    1\n",
              " 62    1\n",
              " 8     1\n",
              " 73    1\n",
              " 16    1\n",
              " 61    0\n",
              " 78    1\n",
              " 99    1\n",
              " Name: diagnosis_result, dtype: int64,\n",
              " 66    0\n",
              " 32    1\n",
              " 46    0\n",
              " 28    1\n",
              " 74    0\n",
              " 23    1\n",
              " 10    1\n",
              " 20    0\n",
              " 17    1\n",
              " 35    1\n",
              " 97    0\n",
              " 37    0\n",
              " 70    1\n",
              " 40    1\n",
              " 60    0\n",
              " 34    1\n",
              " 42    1\n",
              " 57    1\n",
              " 12    0\n",
              " 69    0\n",
              " 94    1\n",
              " 56    1\n",
              " 22    1\n",
              " 39    1\n",
              " 24    1\n",
              " 13    1\n",
              " 63    0\n",
              " 71    0\n",
              " 55    0\n",
              " 87    1\n",
              " 6     1\n",
              " 88    0\n",
              " 64    1\n",
              " 26    1\n",
              " 48    0\n",
              " 50    0\n",
              " 72    1\n",
              " 54    1\n",
              " 21    0\n",
              " 25    1\n",
              " 33    1\n",
              " 29    1\n",
              " 52    0\n",
              " 14    1\n",
              " 85    1\n",
              " 79    0\n",
              " 95    1\n",
              " 3     1\n",
              " 43    1\n",
              " 11    1\n",
              " Name: diagnosis_result, dtype: int64)"
            ]
          },
          "metadata": {
            "tags": []
          },
          "execution_count": 89
        }
      ]
    },
    {
      "cell_type": "code",
      "metadata": {
        "id": "z4xi5BIQXL0J"
      },
      "source": [
        "ytest"
      ],
      "execution_count": null,
      "outputs": []
    },
    {
      "cell_type": "code",
      "metadata": {
        "id": "RX85cilnwiGY",
        "colab": {
          "base_uri": "https://localhost:8080/"
        },
        "outputId": "57eb5019-ae2a-4e11-d874-4f1d72ec4bef"
      },
      "source": [
        "svm_linear = SVC(C= 1, cache_size=200,\n",
        "            decision_function_shape='ovr',gamma=\"auto\",kernel='linear',\n",
        "            max_iter=-1,random_state = None,\n",
        "            tol = 0.00001, verbose = False)\n",
        "\n",
        "svm_rbf = SVC(C= 1, cache_size=200,\n",
        "            decision_function_shape='ovr',gamma=\"auto\",kernel='rbf',\n",
        "            max_iter=-1,random_state = None,\n",
        "            tol = 0.00001, verbose = False)\n",
        "\n",
        "svm_sigmoid = SVC(C= 1, cache_size=200,\n",
        "            decision_function_shape='ovr',gamma=\"auto\",kernel='sigmoid',\n",
        "            max_iter=-1,random_state = None,\n",
        "            tol = 0.00001, verbose = False)\n",
        "\n",
        "# svm_poly = SVC(C= 1, cache_size=200,\n",
        "#             decision_function_shape='ovr',gamma=\"auto\",kernel='poly',\n",
        "#             max_iter=-1,random_state = None,\n",
        "#             tol = 0.00001, verbose = False)\n",
        "\n",
        "svm_linear.fit(xtrain,ytrain)\n",
        "svm_rbf.fit(xtrain,ytrain)\n",
        "svm_sigmoid.fit(xtrain,ytrain)\n",
        "# svm_poly.fit(xtrain,ytrain)"
      ],
      "execution_count": null,
      "outputs": [
        {
          "output_type": "execute_result",
          "data": {
            "text/plain": [
              "SVC(C=1, break_ties=False, cache_size=200, class_weight=None, coef0=0.0,\n",
              "    decision_function_shape='ovr', degree=3, gamma='auto', kernel='sigmoid',\n",
              "    max_iter=-1, probability=False, random_state=None, shrinking=True,\n",
              "    tol=1e-05, verbose=False)"
            ]
          },
          "metadata": {
            "tags": []
          },
          "execution_count": 91
        }
      ]
    },
    {
      "cell_type": "code",
      "metadata": {
        "id": "eSTI1H7DzSBO"
      },
      "source": [
        "ypredlinear = svm_linear.predict(xtest)\n",
        "ypredrbf = svm_rbf.predict(xtest)\n",
        "ypredsigmoid = svm_sigmoid.predict(xtest)\n"
      ],
      "execution_count": null,
      "outputs": []
    },
    {
      "cell_type": "code",
      "metadata": {
        "colab": {
          "base_uri": "https://localhost:8080/"
        },
        "id": "-rxFMTkkbFnx",
        "outputId": "5d17c6a9-b586-4808-f3d6-e5adb588cf05"
      },
      "source": [
        "from sklearn.metrics import confusion_matrix\n",
        "tn,fp,fn,tp = confusion_matrix (ytest,ypredlinear).ravel()\n",
        "akurasi = (tn+tp)/(tn+fp+fn+tp)\n",
        "print(\"tn \",tn)\n",
        "print(\"fp \",fp)\n",
        "print(\"fn \",fn)\n",
        "print(\"tp \",tp)\n",
        "print(\"akurasi linear \",akurasi)"
      ],
      "execution_count": null,
      "outputs": [
        {
          "output_type": "stream",
          "text": [
            "tn  16\n",
            "fp  2\n",
            "fn  2\n",
            "tp  30\n",
            "akurasi linear  0.92\n"
          ],
          "name": "stdout"
        }
      ]
    },
    {
      "cell_type": "code",
      "metadata": {
        "id": "6sn5vbZX2fmF",
        "colab": {
          "base_uri": "https://localhost:8080/"
        },
        "outputId": "72020c23-5a73-4fc0-b97b-5849c3109906"
      },
      "source": [
        "\n",
        "\n",
        "\n",
        "\n",
        "tn,fp,fn,tp = confusion_matrix (ytest,ypredrbf).ravel()\n",
        "akurasi = (tn+tp)/(tn+fp+fn+tp)\n",
        "print(\"akurasi rbf \",akurasi)\n",
        "\n",
        "tn,fp,fn,tp = confusion_matrix (ytest,ypredsigmoid).ravel()\n",
        "akurasi = (tn+tp)/(tn+fp+fn+tp)\n",
        "print(\"akurasi sigmoid \",akurasi)"
      ],
      "execution_count": null,
      "outputs": [
        {
          "output_type": "stream",
          "text": [
            "akurasi rbf  0.62\n",
            "akurasi sigmoid  0.64\n"
          ],
          "name": "stdout"
        }
      ]
    },
    {
      "cell_type": "code",
      "metadata": {
        "id": "xt_3UZOEzvHt",
        "colab": {
          "base_uri": "https://localhost:8080/"
        },
        "outputId": "cc4ab3c6-04b8-48af-e4ee-94bacb4cce9e"
      },
      "source": [
        "predbenar = (ypredlinear == ytest).sum()\n",
        "predsalah = (ypredlinear != ytest).sum()\n",
        "print(\"prediksi benar : \",predbenar, \"data\")\n",
        "print(\"prediksi salah : \",predsalah,\"data\")\n",
        "print(\"akurasi : \",predbenar/(predbenar+predsalah)*100,\"%\")"
      ],
      "execution_count": null,
      "outputs": [
        {
          "output_type": "stream",
          "text": [
            "prediksi benar :  46 data\n",
            "prediksi salah :  4 data\n",
            "akurasi :  92.0 %\n"
          ],
          "name": "stdout"
        }
      ]
    },
    {
      "cell_type": "code",
      "metadata": {
        "colab": {
          "base_uri": "https://localhost:8080/",
          "height": 350
        },
        "id": "ZUbSJADVvM4_",
        "outputId": "3ceab0fb-95ef-43ff-b748-50df4afd33ad"
      },
      "source": [
        "import matplotlib.pyplot as plt\n",
        "plt.figure(figsize=(8,5))\n",
        "y = [57,61,64,60,60,60,59]\n",
        "x = ['0.1','0.5','1','5','10','50','100']\n",
        "\n",
        "\n",
        "plt.plot(x, y, color='green', linestyle='dashed', linewidth = 3,\n",
        "         marker='o', markerfacecolor='blue', markersize=12)\n",
        "\n",
        "plt.ylim(50,70)\n",
        "plt.xlabel('Nilai Variabel C')\n",
        "plt.ylabel('Nilai Akurasi')\n",
        "\n",
        "plt.title('Hasil perbandingan nilai variabel C ')\n",
        "plt.grid(True)\n",
        "plt.show()"
      ],
      "execution_count": null,
      "outputs": [
        {
          "output_type": "display_data",
          "data": {
            "image/png": "[encoded data removed]",
            "text/plain": [
              "<Figure size 576x360 with 1 Axes>"
            ]
          },
          "metadata": {
            "tags": [],
            "needs_background": "light"
          }
        }
      ]
    }
  ]
}